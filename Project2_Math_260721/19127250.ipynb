{
 "cells": [
  {
   "cell_type": "code",
   "execution_count": null,
   "id": "fc5d422c",
   "metadata": {},
   "outputs": [],
   "source": [
    "from PIL import Image # Open & save \n",
    "import matplotlib.pyplot as PLT # Show image\n",
    "import numpy as np"
   ]
  },
  {
   "cell_type": "markdown",
   "id": "42f4a2db",
   "metadata": {},
   "source": [
    "* **Mở ảnh**"
   ]
  },
  {
   "cell_type": "code",
   "execution_count": null,
   "id": "b2d613da",
   "metadata": {
    "scrolled": true
   },
   "outputs": [],
   "source": [
    "Img = Image.open(\"Image.jpg\")\n",
    "Star_Image = Image.open(\"star.jpg\") #Image has the same size with original image \n",
    "\n",
    "print(\"- Original image: \")\n",
    "PLT.imshow(Img)"
   ]
  },
  {
   "cell_type": "markdown",
   "id": "91791bcc",
   "metadata": {},
   "source": [
    "* **Chuyển ảnh thành mảng để xử lý**"
   ]
  },
  {
   "cell_type": "code",
   "execution_count": null,
   "id": "5da35597",
   "metadata": {},
   "outputs": [],
   "source": [
    "def Read_Image_ToArr(image):\n",
    "    return np.array(image) "
   ]
  },
  {
   "cell_type": "markdown",
   "id": "ec0fa0fd",
   "metadata": {},
   "source": [
    "**1. Thay đổi độ sáng cho ảnh**"
   ]
  },
  {
   "cell_type": "code",
   "execution_count": null,
   "id": "3330f5b6",
   "metadata": {},
   "outputs": [],
   "source": [
    "def brightness(image, alpha):\n",
    "    arrayImage = Read_Image_ToArr(image)\n",
    "    newImage = arrayImage + float(alpha) # values of arrayImage is in [0, 255]\n",
    "    newImage = np.clip(newImage, 0, 255) # Clip (limit) the values in an array from 0 to 255\n",
    "    return newImage.astype(np.uint8) #Cast new float arr into unsigned int arr\n",
    "\n",
    "print(\"- Increase light mode for image: \")\n",
    "brightImg = brightness(Img,alpha=20)\n",
    "PLT.imshow(brightImg, cmap=None)"
   ]
  },
  {
   "cell_type": "markdown",
   "id": "9e6abd57",
   "metadata": {},
   "source": [
    "**2. Thay đổi độ tương phản**"
   ]
  },
  {
   "cell_type": "code",
   "execution_count": null,
   "id": "24ce484f",
   "metadata": {},
   "outputs": [],
   "source": [
    "def contrast(image, alpha):\n",
    "    arrayImage = Read_Image_ToArr(image)\n",
    "    newImage = arrayImage * float(alpha) # values of arrayImage is in [0, 255]\n",
    "    newImage = np.clip(newImage, 0, 255) # Clip (limit) the values in an array from 0 to 255\n",
    "    return newImage.astype(np.uint8) #Cast new float arr into unsigned int arr\n",
    "\n",
    "print(\"- Change contrast mode for image: \")\n",
    "ContrastImg = contrast(Img,alpha=2.5)\n",
    "PLT.imshow(ContrastImg, cmap=None)"
   ]
  },
  {
   "cell_type": "markdown",
   "id": "61f8b784",
   "metadata": {},
   "source": [
    "**3. Chuyển đổi ảnh RGB thành ảnh xám**"
   ]
  },
  {
   "cell_type": "code",
   "execution_count": null,
   "id": "3fcae95e",
   "metadata": {},
   "outputs": [],
   "source": [
    "def ConvertGray(image):\n",
    "    arrayImage = Read_Image_ToArr(image)\n",
    "    newImage = np.dot(arrayImage, np.array([0.3, 0.59, 0.11])) #New grayscale image = ((0.3*R) + (0.59*G) + (0.11 * B))\n",
    "    return newImage.astype(np.uint8)\n",
    "\n",
    "print(\"- Change RGB image into grayscale image: \")\n",
    "GrayImg = ConvertGray(Img)\n",
    "PLT.imshow(GrayImg, cmap = 'gray')"
   ]
  },
  {
   "cell_type": "markdown",
   "id": "b5de53c0",
   "metadata": {},
   "source": [
    "**4. Lật ảnh (ngang - dọc)**"
   ]
  },
  {
   "cell_type": "markdown",
   "id": "fc727a22",
   "metadata": {},
   "source": [
    "* **4.1. Lật ảnh ngang**"
   ]
  },
  {
   "cell_type": "code",
   "execution_count": null,
   "id": "7d73d22c",
   "metadata": {
    "scrolled": true
   },
   "outputs": [],
   "source": [
    "def horizontal_flip(image):\n",
    "    arrayImage = Read_Image_ToArr(image)\n",
    "    return np.fliplr(arrayImage)\n",
    "\n",
    "print(\"- Flip image horizontally: \")\n",
    "HorFlip = horizontal_flip(Img)\n",
    "PLT.imshow(HorFlip)"
   ]
  },
  {
   "cell_type": "markdown",
   "id": "e90c6066",
   "metadata": {},
   "source": [
    "* **4.2. Lật ảnh dọc**"
   ]
  },
  {
   "cell_type": "code",
   "execution_count": null,
   "id": "dd21dff2",
   "metadata": {},
   "outputs": [],
   "source": [
    "def vertical_flip(image):\n",
    "    arrayImage = Read_Image_ToArr(image)\n",
    "    return np.flipud(arrayImage)\n",
    "\n",
    "print(\"- Flip image vertically: \")\n",
    "VerFlip = vertical_flip(Img)\n",
    "PLT.imshow(VerFlip)"
   ]
  },
  {
   "cell_type": "markdown",
   "id": "041c899b",
   "metadata": {},
   "source": [
    "**5. Chồng 2 ảnh cùng kích thước: chỉ làm trên ảnh xám**"
   ]
  },
  {
   "cell_type": "code",
   "execution_count": null,
   "id": "58e6e65a",
   "metadata": {},
   "outputs": [],
   "source": [
    "def combine_2_Images(image_1, image_2):\n",
    "    starImg = Read_Image_ToArr(image_2)\n",
    "    arrayImage = ConvertGray(image_1) * 0.6 + ConvertGray(starImg) * 0.4\n",
    "    return arrayImage.astype(np.uint8)\n",
    "\n",
    "print(\"- Combine two image: \")\n",
    "CombineImg = combine_2_Images(Img, Star_Image)\n",
    "PLT.imshow(CombineImg, cmap = 'gray')"
   ]
  },
  {
   "cell_type": "markdown",
   "id": "1936dced",
   "metadata": {},
   "source": [
    "**6. Làm mờ ảnh (Sử dụng Gaussian blur 3 x 3)** "
   ]
  },
  {
   "cell_type": "code",
   "execution_count": null,
   "id": "c1804a3d",
   "metadata": {},
   "outputs": [],
   "source": [
    "def Blur_Gaussian_Image(image):\n",
    "    \n",
    "    arrayImage = Read_Image_ToArr(image)\n",
    "    if arrayImage.ndim == 3: # Using for color image\n",
    "        kernel_colorImg = np.array([[[1], [2], [1]],\n",
    "                                   [[2], [4], [2]],\n",
    "                                   [[1], [2], [1]]]) / 16\n",
    "\n",
    "        tempArr = np.copy(arrayImage)\n",
    "        padArr = np.pad(tempArr, pad_width = ((1, 1), (1, 1), (0, 0)))\n",
    "        for i in range(arrayImage.shape[0]): \n",
    "            for j in range(arrayImage.shape[1]):\n",
    "                HorSum = np.sum(padArr[i:i+3,j:j+3] * kernel_colorImg, axis=1)\n",
    "                arrayImage[i][j] = np.sum(HorSum, axis=0)\n",
    "        return arrayImage\n",
    "\n",
    "    elif arrayImage.ndim == 2: # Using for gray image\n",
    "\n",
    "        kernel_GrayImg = np.array([[1, 2, 1],\n",
    "                                   [2, 4, 2],\n",
    "                                   [1, 2, 1]]) / 16 \n",
    "        tempArr = np.copy(arrayImage)\n",
    "        padArr = np.pad(tempArr, pad_width = (1, 1))\n",
    "\n",
    "        for i in range(arrayImage.shape[0]): \n",
    "            for j in range(arrayImage.shape[1]):\n",
    "                arrayImage[i][j] = np.sum(padArr[i:i+3,j:j+3] * kernel_GrayImg)\n",
    "        return arrayImage\n",
    "\n",
    "print(\"- Make blur image by Gaussian blur 3x3: \")\n",
    "blurGauss = Blur_Gaussian_Image(Img)\n",
    "PLT.imshow(blurGauss, cmap='gray')"
   ]
  }
 ],
 "metadata": {
  "kernelspec": {
   "display_name": "Python 3",
   "language": "python",
   "name": "python3"
  },
  "language_info": {
   "codemirror_mode": {
    "name": "ipython",
    "version": 3
   },
   "file_extension": ".py",
   "mimetype": "text/x-python",
   "name": "python",
   "nbconvert_exporter": "python",
   "pygments_lexer": "ipython3",
   "version": "3.8.8"
  }
 },
 "nbformat": 4,
 "nbformat_minor": 5
}
